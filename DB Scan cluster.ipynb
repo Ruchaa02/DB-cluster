{
 "cells": [
  {
   "cell_type": "code",
   "execution_count": 1,
   "id": "edcba41f",
   "metadata": {},
   "outputs": [],
   "source": [
    "import pandas as pd\n",
    "import numpy as np\n",
    "import seaborn as sns\n",
    "import matplotlib.pyplot as plt"
   ]
  },
  {
   "cell_type": "code",
   "execution_count": 2,
   "id": "c9564950",
   "metadata": {},
   "outputs": [],
   "source": [
    "df=pd.read_csv(\"C:/Users/Ruchita/Downloads/Datascience/smartphones.csv\")"
   ]
  },
  {
   "cell_type": "code",
   "execution_count": 3,
   "id": "91b4dcc9",
   "metadata": {},
   "outputs": [
    {
     "data": {
      "text/html": [
       "<div>\n",
       "<style scoped>\n",
       "    .dataframe tbody tr th:only-of-type {\n",
       "        vertical-align: middle;\n",
       "    }\n",
       "\n",
       "    .dataframe tbody tr th {\n",
       "        vertical-align: top;\n",
       "    }\n",
       "\n",
       "    .dataframe thead th {\n",
       "        text-align: right;\n",
       "    }\n",
       "</style>\n",
       "<table border=\"1\" class=\"dataframe\">\n",
       "  <thead>\n",
       "    <tr style=\"text-align: right;\">\n",
       "      <th></th>\n",
       "      <th>Name</th>\n",
       "      <th>OS</th>\n",
       "      <th>Capacity</th>\n",
       "      <th>Ram</th>\n",
       "      <th>Weight</th>\n",
       "      <th>Company</th>\n",
       "      <th>inch</th>\n",
       "    </tr>\n",
       "  </thead>\n",
       "  <tbody>\n",
       "    <tr>\n",
       "      <th>0</th>\n",
       "      <td>Galaxy S8</td>\n",
       "      <td>Android</td>\n",
       "      <td>64</td>\n",
       "      <td>4</td>\n",
       "      <td>149.0</td>\n",
       "      <td>Samsung</td>\n",
       "      <td>5.8</td>\n",
       "    </tr>\n",
       "    <tr>\n",
       "      <th>1</th>\n",
       "      <td>Lumia 950</td>\n",
       "      <td>windows</td>\n",
       "      <td>32</td>\n",
       "      <td>3</td>\n",
       "      <td>150.0</td>\n",
       "      <td>Microsoft</td>\n",
       "      <td>5.2</td>\n",
       "    </tr>\n",
       "    <tr>\n",
       "      <th>2</th>\n",
       "      <td>Xpreia L1</td>\n",
       "      <td>Android</td>\n",
       "      <td>16</td>\n",
       "      <td>2</td>\n",
       "      <td>180.0</td>\n",
       "      <td>Sony</td>\n",
       "      <td>5.5</td>\n",
       "    </tr>\n",
       "    <tr>\n",
       "      <th>3</th>\n",
       "      <td>iphone 7</td>\n",
       "      <td>ios</td>\n",
       "      <td>128</td>\n",
       "      <td>2</td>\n",
       "      <td>138.0</td>\n",
       "      <td>Apple</td>\n",
       "      <td>4.7</td>\n",
       "    </tr>\n",
       "    <tr>\n",
       "      <th>4</th>\n",
       "      <td>U Ultra</td>\n",
       "      <td>Android</td>\n",
       "      <td>64</td>\n",
       "      <td>4</td>\n",
       "      <td>170.0</td>\n",
       "      <td>HTC</td>\n",
       "      <td>5.7</td>\n",
       "    </tr>\n",
       "  </tbody>\n",
       "</table>\n",
       "</div>"
      ],
      "text/plain": [
       "        Name        OS  Capacity  Ram  Weight    Company  inch\n",
       "0  Galaxy S8   Android        64    4   149.0    Samsung   5.8\n",
       "1  Lumia 950  windows         32    3   150.0  Microsoft   5.2\n",
       "2  Xpreia L1   Android        16    2   180.0       Sony   5.5\n",
       "3  iphone 7        ios       128    2   138.0      Apple   4.7\n",
       "4    U Ultra   Android        64    4   170.0        HTC   5.7"
      ]
     },
     "execution_count": 3,
     "metadata": {},
     "output_type": "execute_result"
    }
   ],
   "source": [
    "df.head()"
   ]
  },
  {
   "cell_type": "code",
   "execution_count": 4,
   "id": "26bcad1f",
   "metadata": {},
   "outputs": [
    {
     "name": "stdout",
     "output_type": "stream",
     "text": [
      "<class 'pandas.core.frame.DataFrame'>\n",
      "RangeIndex: 9 entries, 0 to 8\n",
      "Data columns (total 7 columns):\n",
      " #   Column    Non-Null Count  Dtype  \n",
      "---  ------    --------------  -----  \n",
      " 0   Name      9 non-null      object \n",
      " 1   OS        9 non-null      object \n",
      " 2   Capacity  9 non-null      int64  \n",
      " 3   Ram       9 non-null      int64  \n",
      " 4   Weight    9 non-null      float64\n",
      " 5   Company   9 non-null      object \n",
      " 6   inch      9 non-null      float64\n",
      "dtypes: float64(2), int64(2), object(3)\n",
      "memory usage: 632.0+ bytes\n"
     ]
    }
   ],
   "source": [
    "df.info()"
   ]
  },
  {
   "cell_type": "code",
   "execution_count": 5,
   "id": "2848d1c4",
   "metadata": {},
   "outputs": [],
   "source": [
    "from sklearn.preprocessing import LabelEncoder\n",
    "le=LabelEncoder()\n",
    "df['OS']=le.fit_transform(df['OS'])\n",
    "df['Company']=le.fit_transform(df['Company'])\n",
    "df['Name']=le.fit_transform(df['Name'])"
   ]
  },
  {
   "cell_type": "code",
   "execution_count": 6,
   "id": "35733d8a",
   "metadata": {},
   "outputs": [
    {
     "data": {
      "text/plain": [
       "array([[0.125     , 0.        , 0.42857143, 1.        , 0.54411765,\n",
       "        0.83333333, 1.        ],\n",
       "       [0.25      , 1.        , 0.14285714, 0.66666667, 0.55882353,\n",
       "        0.5       , 0.66666667],\n",
       "       [0.75      , 0.        , 0.        , 0.33333333, 1.        ,\n",
       "        1.        , 0.83333333],\n",
       "       [1.        , 0.5       , 1.        , 0.33333333, 0.38235294,\n",
       "        0.        , 0.38888889],\n",
       "       [0.625     , 0.        , 0.42857143, 1.        , 0.85294118,\n",
       "        0.33333333, 0.94444444],\n",
       "       [0.        , 0.        , 0.        , 0.33333333, 0.48529412,\n",
       "        0.83333333, 0.61111111],\n",
       "       [0.875     , 0.5       , 0.14285714, 0.        , 0.        ,\n",
       "        0.        , 0.        ],\n",
       "       [0.375     , 0.        , 0.        , 0.66666667, 0.47794118,\n",
       "        0.66666667, 0.55555556],\n",
       "       [0.5       , 0.        , 1.        , 1.        , 0.45588235,\n",
       "        0.16666667, 0.55555556]])"
      ]
     },
     "execution_count": 6,
     "metadata": {},
     "output_type": "execute_result"
    }
   ],
   "source": [
    "from sklearn.preprocessing import MinMaxScaler\n",
    "dfn=MinMaxScaler().fit_transform(df)\n",
    "dfn"
   ]
  },
  {
   "cell_type": "code",
   "execution_count": 7,
   "id": "30ecb3aa",
   "metadata": {},
   "outputs": [
    {
     "name": "stdout",
     "output_type": "stream",
     "text": [
      "NearestNeighbors(n_neighbors=3)\n"
     ]
    }
   ],
   "source": [
    "from sklearn.neighbors import NearestNeighbors\n",
    "neigh=NearestNeighbors(n_neighbors=3)\n",
    "nbrs=neigh.fit(dfn)\n",
    "print(nbrs)\n",
    "distances, indices=nbrs.kneighbors(dfn)\n"
   ]
  },
  {
   "cell_type": "code",
   "execution_count": 8,
   "id": "1803b5ff",
   "metadata": {},
   "outputs": [
    {
     "data": {
      "image/png": "[encoded data removed]",
      "text/plain": [
       "<Figure size 1440x720 with 1 Axes>"
      ]
     },
     "metadata": {
      "needs_background": "light"
     },
     "output_type": "display_data"
    }
   ],
   "source": [
    "plt.figure(figsize=(20,10))\n",
    "distances=np.sort(distances, axis=0)\n",
    "distances=distances[:,1]\n",
    "plt.plot(distances)\n",
    "plt.title('K-distance graph', fontsize=20)\n",
    "plt.xlabel('Data Point sorted by distance', fontsize=14)\n",
    "plt.ylabel('Epsilon', fontsize=14)\n",
    "plt.show()"
   ]
  },
  {
   "cell_type": "code",
   "execution_count": 9,
   "id": "6cfbf966",
   "metadata": {},
   "outputs": [
    {
     "data": {
      "text/plain": [
       "DBSCAN(eps=1, min_samples=6)"
      ]
     },
     "execution_count": 9,
     "metadata": {},
     "output_type": "execute_result"
    }
   ],
   "source": [
    "from sklearn.cluster import DBSCAN\n",
    "model=DBSCAN(eps=1,min_samples=6)\n",
    "model.fit(dfn)"
   ]
  },
  {
   "cell_type": "code",
   "execution_count": 10,
   "id": "f4cf552a",
   "metadata": {},
   "outputs": [
    {
     "data": {
      "text/plain": [
       "array([-1, -1, -1, -1, -1, -1, -1, -1, -1], dtype=int64)"
      ]
     },
     "execution_count": 10,
     "metadata": {},
     "output_type": "execute_result"
    }
   ],
   "source": [
    "model.labels_"
   ]
  },
  {
   "cell_type": "code",
   "execution_count": 11,
   "id": "698cf86d",
   "metadata": {},
   "outputs": [
    {
     "data": {
      "text/html": [
       "<div>\n",
       "<style scoped>\n",
       "    .dataframe tbody tr th:only-of-type {\n",
       "        vertical-align: middle;\n",
       "    }\n",
       "\n",
       "    .dataframe tbody tr th {\n",
       "        vertical-align: top;\n",
       "    }\n",
       "\n",
       "    .dataframe thead th {\n",
       "        text-align: right;\n",
       "    }\n",
       "</style>\n",
       "<table border=\"1\" class=\"dataframe\">\n",
       "  <thead>\n",
       "    <tr style=\"text-align: right;\">\n",
       "      <th></th>\n",
       "      <th>Name</th>\n",
       "      <th>OS</th>\n",
       "      <th>Capacity</th>\n",
       "      <th>Ram</th>\n",
       "      <th>Weight</th>\n",
       "      <th>Company</th>\n",
       "      <th>inch</th>\n",
       "      <th>DB_Cluster</th>\n",
       "    </tr>\n",
       "  </thead>\n",
       "  <tbody>\n",
       "    <tr>\n",
       "      <th>0</th>\n",
       "      <td>1</td>\n",
       "      <td>0</td>\n",
       "      <td>64</td>\n",
       "      <td>4</td>\n",
       "      <td>149.0</td>\n",
       "      <td>5</td>\n",
       "      <td>5.8</td>\n",
       "      <td>-1</td>\n",
       "    </tr>\n",
       "    <tr>\n",
       "      <th>1</th>\n",
       "      <td>2</td>\n",
       "      <td>2</td>\n",
       "      <td>32</td>\n",
       "      <td>3</td>\n",
       "      <td>150.0</td>\n",
       "      <td>3</td>\n",
       "      <td>5.2</td>\n",
       "      <td>-1</td>\n",
       "    </tr>\n",
       "    <tr>\n",
       "      <th>2</th>\n",
       "      <td>6</td>\n",
       "      <td>0</td>\n",
       "      <td>16</td>\n",
       "      <td>2</td>\n",
       "      <td>180.0</td>\n",
       "      <td>6</td>\n",
       "      <td>5.5</td>\n",
       "      <td>-1</td>\n",
       "    </tr>\n",
       "    <tr>\n",
       "      <th>3</th>\n",
       "      <td>8</td>\n",
       "      <td>1</td>\n",
       "      <td>128</td>\n",
       "      <td>2</td>\n",
       "      <td>138.0</td>\n",
       "      <td>0</td>\n",
       "      <td>4.7</td>\n",
       "      <td>-1</td>\n",
       "    </tr>\n",
       "    <tr>\n",
       "      <th>4</th>\n",
       "      <td>5</td>\n",
       "      <td>0</td>\n",
       "      <td>64</td>\n",
       "      <td>4</td>\n",
       "      <td>170.0</td>\n",
       "      <td>2</td>\n",
       "      <td>5.7</td>\n",
       "      <td>-1</td>\n",
       "    </tr>\n",
       "    <tr>\n",
       "      <th>5</th>\n",
       "      <td>0</td>\n",
       "      <td>0</td>\n",
       "      <td>16</td>\n",
       "      <td>2</td>\n",
       "      <td>145.0</td>\n",
       "      <td>5</td>\n",
       "      <td>5.1</td>\n",
       "      <td>-1</td>\n",
       "    </tr>\n",
       "    <tr>\n",
       "      <th>6</th>\n",
       "      <td>7</td>\n",
       "      <td>1</td>\n",
       "      <td>32</td>\n",
       "      <td>1</td>\n",
       "      <td>112.0</td>\n",
       "      <td>0</td>\n",
       "      <td>4.0</td>\n",
       "      <td>-1</td>\n",
       "    </tr>\n",
       "    <tr>\n",
       "      <th>7</th>\n",
       "      <td>3</td>\n",
       "      <td>0</td>\n",
       "      <td>16</td>\n",
       "      <td>3</td>\n",
       "      <td>144.5</td>\n",
       "      <td>4</td>\n",
       "      <td>5.0</td>\n",
       "      <td>-1</td>\n",
       "    </tr>\n",
       "    <tr>\n",
       "      <th>8</th>\n",
       "      <td>4</td>\n",
       "      <td>0</td>\n",
       "      <td>128</td>\n",
       "      <td>4</td>\n",
       "      <td>143.0</td>\n",
       "      <td>1</td>\n",
       "      <td>5.0</td>\n",
       "      <td>-1</td>\n",
       "    </tr>\n",
       "  </tbody>\n",
       "</table>\n",
       "</div>"
      ],
      "text/plain": [
       "   Name  OS  Capacity  Ram  Weight  Company  inch  DB_Cluster\n",
       "0     1   0        64    4   149.0        5   5.8          -1\n",
       "1     2   2        32    3   150.0        3   5.2          -1\n",
       "2     6   0        16    2   180.0        6   5.5          -1\n",
       "3     8   1       128    2   138.0        0   4.7          -1\n",
       "4     5   0        64    4   170.0        2   5.7          -1\n",
       "5     0   0        16    2   145.0        5   5.1          -1\n",
       "6     7   1        32    1   112.0        0   4.0          -1\n",
       "7     3   0        16    3   144.5        4   5.0          -1\n",
       "8     4   0       128    4   143.0        1   5.0          -1"
      ]
     },
     "execution_count": 11,
     "metadata": {},
     "output_type": "execute_result"
    }
   ],
   "source": [
    "Cluster=model.labels_\n",
    "df['DB_Cluster']=Cluster\n",
    "df"
   ]
  },
  {
   "cell_type": "code",
   "execution_count": null,
   "id": "629bbdcc",
   "metadata": {},
   "outputs": [],
   "source": []
  }
 ],
 "metadata": {
  "kernelspec": {
   "display_name": "Python 3",
   "language": "python",
   "name": "python3"
  },
  "language_info": {
   "codemirror_mode": {
    "name": "ipython",
    "version": 3
   },
   "file_extension": ".py",
   "mimetype": "text/x-python",
   "name": "python",
   "nbconvert_exporter": "python",
   "pygments_lexer": "ipython3",
   "version": "3.8.8"
  }
 },
 "nbformat": 4,
 "nbformat_minor": 5
}
